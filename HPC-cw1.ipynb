{
  "nbformat": 4,
  "nbformat_minor": 0,
  "metadata": {
    "colab": {
      "provenance": [],
      "authorship_tag": "ABX9TyP34M//LmKYESeaJj4XzfSH",
      "include_colab_link": true
    },
    "kernelspec": {
      "name": "python3",
      "display_name": "Python 3"
    },
    "language_info": {
      "name": "python"
    }
  },
  "cells": [
    {
      "cell_type": "markdown",
      "metadata": {
        "id": "view-in-github",
        "colab_type": "text"
      },
      "source": [
        "<a href=\"https://colab.research.google.com/github/ZERuAaaaa/MultiAProj/blob/master/HPC-cw1.ipynb\" target=\"_parent\"><img src=\"https://colab.research.google.com/assets/colab-badge.svg\" alt=\"Open In Colab\"/></a>"
      ]
    },
    {
      "cell_type": "code",
      "execution_count": null,
      "metadata": {
        "colab": {
          "base_uri": "https://localhost:8080/"
        },
        "id": "c7E9uI77-3QZ",
        "outputId": "bb236615-4ab5-4e39-ef06-7045c3c10672"
      },
      "outputs": [
        {
          "output_type": "stream",
          "name": "stdout",
          "text": [
            "[[0.20218904]]\n",
            "[[0.20218904]]\n",
            "[[0.7889507  0.60727371]\n",
            " [0.48474499 0.28552961]]\n",
            "[[0.7889507  0.60727371]\n",
            " [0.48474499 0.28552961]]\n",
            "[[1.09845922 0.86648064 0.49950246]\n",
            " [1.22299356 0.92349727 0.54646818]\n",
            " [1.07059492 0.82431542 0.47268096]]\n",
            "[[1.09845922 0.86648064 0.49950246]\n",
            " [1.22299356 0.92349727 0.54646818]\n",
            " [1.07059492 0.82431542 0.47268096]]\n",
            "[[1.8884873  1.37306752 1.39537427 0.95905144]\n",
            " [1.01118715 0.64550453 0.92743084 0.52817134]\n",
            " [0.85191048 0.75378041 0.97843251 0.71123493]\n",
            " [1.42940451 0.99804247 1.11321441 0.74847073]]\n",
            "[[1.8884873  1.37306752 1.39537427 0.95905144]\n",
            " [1.01118715 0.64550453 0.92743084 0.52817134]\n",
            " [0.85191048 0.75378041 0.97843251 0.71123493]\n",
            " [1.42940451 0.99804247 1.11321441 0.74847073]]\n",
            "[[1.34229124 1.55124985 1.7337675  1.175536   1.67319325]\n",
            " [0.85482654 0.99230197 0.96177392 0.56970848 0.75322917]\n",
            " [1.3064033  1.45732754 1.32191411 0.69500463 0.70586598]\n",
            " [1.14895153 1.23951068 1.26911492 0.80200865 1.17284111]\n",
            " [0.96199751 1.21303767 1.19673822 0.7007695  0.98151987]]\n",
            "[[1.34229124 1.55124985 1.7337675  1.175536   1.67319325]\n",
            " [0.85482654 0.99230197 0.96177392 0.56970848 0.75322917]\n",
            " [1.3064033  1.45732754 1.32191411 0.69500463 0.70586598]\n",
            " [1.14895153 1.23951068 1.26911492 0.80200865 1.17284111]\n",
            " [0.96199751 1.21303767 1.19673822 0.7007695  0.98151987]]\n",
            "True\n"
          ]
        }
      ],
      "source": [
        "import time\n",
        "\n",
        "import numpy as np\n",
        "from numba import njit\n",
        "import timeit\n",
        "import csv\n",
        "\n",
        "def slow_matrix_product(mat1, mat2):\n",
        "    \"\"\"Multiply two matrices.\"\"\"\n",
        "    assert mat1.shape[1] == mat2.shape[0]\n",
        "    result = []\n",
        "    for c in range(mat2.shape[1]):\n",
        "        column = []\n",
        "        for r in range(mat1.shape[0]):\n",
        "            value = 0\n",
        "            for i in range(mat1.shape[1]):\n",
        "                value += mat1[r, i] * mat2[i, c]\n",
        "            column.append(value)\n",
        "        result.append(column)\n",
        "    return np.array(result).transpose()\n",
        "\n",
        "def fast_matrix_product(matrix1, matrix2):\n",
        "    assert matrix1.shape[0] == matrix2.shape[1]\n",
        "    result = []\n",
        "    for a in range(matrix2.shape[1]):\n",
        "        row = []\n",
        "        for b in range(matrix1.shape[0]):\n",
        "            value = np.dot(matrix1[b],matrix2.transpose()[a])\n",
        "            row.append(value)\n",
        "        result.append(row)\n",
        "    return np.array(result).transpose()\n",
        "\n",
        "for i in range(1,6):\n",
        "  test_matrix1 = np.random.rand(i,i)\n",
        "  test_matrix2 = np.random.rand(i,i)\n",
        "  print(slow_matrix_product(test_matrix1, test_matrix2))\n",
        "  print(fast_matrix_product(test_matrix1, test_matrix2))\n",
        "  assert slow_matrix_product(test_matrix1, test_matrix2).all() == fast_matrix_product(test_matrix1, test_matrix2).all()\n",
        "\n",
        "print(True)"
      ]
    },
    {
      "cell_type": "markdown",
      "source": [
        "\n",
        "\n",
        "```\n",
        "# Advantage:\n",
        "1, the old function runs three loop which is O(n^3) time complexity, the modified function runs only two loops which is O(n^2).\n",
        "2, \n",
        "```\n",
        "\n",
        "\n"
      ],
      "metadata": {
        "id": "msKVFvG1d69J"
      }
    },
    {
      "cell_type": "code",
      "source": [
        "@njit\n",
        "def numba_fast_matrix_product(matrix1, matrix2):\n",
        "    assert matrix1.shape[0] == matrix2.shape[1]\n",
        "    result = []\n",
        "    for a in range(matrix2.shape[1]):\n",
        "        row = []\n",
        "        for b in range(matrix1.shape[0]):\n",
        "            value = np.dot(matrix1[b],matrix2[a])\n",
        "            row.append(value)\n",
        "        result.append(row)\n",
        "    return result\n",
        "\n",
        "\n",
        "\n",
        "def test():\n",
        "    time_slow = []\n",
        "    time_fast = []\n",
        "    time_numba = []\n",
        "\n",
        "    for i in range(0,1000,100):\n",
        "        test1 = np.random.rand(i,i)\n",
        "        test2 = np.random.rand(i,i)\n",
        "        print(i)\n",
        "        start_time = time.time()\n",
        "        slow_matrix_product(test1,test2)\n",
        "        end_time = time.time()\n",
        "        time_slow.append([i,end_time - start_time])\n",
        "\n",
        "        start_time = time.time()\n",
        "        fast_matrix_product(test1,test2)\n",
        "        end_time = time.time()\n",
        "        time_fast.append([i,end_time - start_time])\n",
        "\n",
        "        start_time = time.time()\n",
        "        numba_fast_matrix_product(test1,test2)\n",
        "        end_time = time.time()\n",
        "        time_numba.append([i,end_time - start_time])\n",
        "\n",
        "    print(time_slow)\n",
        "    print(time_fast)\n",
        "    print(time_numba)\n",
        "\n",
        "test()\n"
      ],
      "metadata": {
        "id": "a6CGEkI5_m5B"
      },
      "execution_count": null,
      "outputs": []
    },
    {
      "cell_type": "code",
      "source": [],
      "metadata": {
        "id": "lKBPHDDa_nuN"
      },
      "execution_count": null,
      "outputs": []
    }
  ]
}