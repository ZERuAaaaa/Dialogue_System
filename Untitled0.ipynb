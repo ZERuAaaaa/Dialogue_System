{
  "nbformat": 4,
  "nbformat_minor": 0,
  "metadata": {
    "colab": {
      "provenance": [],
      "authorship_tag": "ABX9TyPW/LGgpvb9x7dGwT9kdVN+",
      "include_colab_link": true
    },
    "kernelspec": {
      "name": "python3",
      "display_name": "Python 3"
    },
    "language_info": {
      "name": "python"
    }
  },
  "cells": [
    {
      "cell_type": "markdown",
      "metadata": {
        "id": "view-in-github",
        "colab_type": "text"
      },
      "source": [
        "<a href=\"https://colab.research.google.com/github/ZERuAaaaa/MultiAProj/blob/master/Untitled0.ipynb\" target=\"_parent\"><img src=\"https://colab.research.google.com/assets/colab-badge.svg\" alt=\"Open In Colab\"/></a>"
      ]
    },
    {
      "cell_type": "code",
      "execution_count": 20,
      "metadata": {
        "colab": {
          "base_uri": "https://localhost:8080/",
          "height": 597
        },
        "id": "c7E9uI77-3QZ",
        "outputId": "972500e0-0545-4c37-e821-a1e02498bc14"
      },
      "outputs": [
        {
          "output_type": "stream",
          "name": "stdout",
          "text": [
            "[[0.07856621]]\n",
            "[[0.07856621]]\n",
            "[[0.463956   0.43134354]\n",
            " [0.79387035 0.24231778]]\n",
            "[[0.463956   0.43134354]\n",
            " [0.79387035 0.24231778]]\n",
            "[[0.97615939 0.43118777 0.72100855]\n",
            " [1.08045317 0.52125666 0.84777628]\n",
            " [0.95302381 0.31436835 0.68116008]]\n",
            "[[0.97615939 0.43118777 0.72100855]\n",
            " [1.08045317 0.52125666 0.84777628]\n",
            " [0.95302381 0.31436835 0.68116008]]\n",
            "[[1.09722925 0.83201136 0.43990456 0.69503535]\n",
            " [1.28202985 0.83527361 1.10824879 0.94831491]\n",
            " [0.49685941 0.65771153 0.46912337 0.34104   ]\n",
            " [1.17522604 0.67845311 0.41599587 0.56334054]]\n",
            "[[1.09722925 0.83201136 0.43990456 0.69503535]\n",
            " [1.28202985 0.83527361 1.10824879 0.94831491]\n",
            " [0.49685941 0.65771153 0.46912337 0.34104   ]\n",
            " [1.17522604 0.67845311 0.41599587 0.56334054]]\n"
          ]
        },
        {
          "output_type": "error",
          "ename": "AssertionError",
          "evalue": "ignored",
          "traceback": [
            "\u001b[0;31m---------------------------------------------------------------------------\u001b[0m",
            "\u001b[0;31mAssertionError\u001b[0m                            Traceback (most recent call last)",
            "\u001b[0;32m<ipython-input-20-fe601c68e067>\u001b[0m in \u001b[0;36m<module>\u001b[0;34m\u001b[0m\n\u001b[1;32m     40\u001b[0m   \u001b[0mprint\u001b[0m\u001b[0;34m(\u001b[0m\u001b[0mslow_matrix_product\u001b[0m\u001b[0;34m(\u001b[0m\u001b[0mtest_matrix1\u001b[0m\u001b[0;34m,\u001b[0m \u001b[0mtest_matrix2\u001b[0m\u001b[0;34m)\u001b[0m\u001b[0;34m)\u001b[0m\u001b[0;34m\u001b[0m\u001b[0;34m\u001b[0m\u001b[0m\n\u001b[1;32m     41\u001b[0m   \u001b[0mprint\u001b[0m\u001b[0;34m(\u001b[0m\u001b[0mfast_matrix_product\u001b[0m\u001b[0;34m(\u001b[0m\u001b[0mtest_matrix1\u001b[0m\u001b[0;34m,\u001b[0m \u001b[0mtest_matrix2\u001b[0m\u001b[0;34m)\u001b[0m\u001b[0;34m)\u001b[0m\u001b[0;34m\u001b[0m\u001b[0;34m\u001b[0m\u001b[0m\n\u001b[0;32m---> 42\u001b[0;31m   \u001b[0;32massert\u001b[0m \u001b[0;34m(\u001b[0m\u001b[0mslow_matrix_product\u001b[0m\u001b[0;34m(\u001b[0m\u001b[0mtest_matrix1\u001b[0m\u001b[0;34m,\u001b[0m \u001b[0mtest_matrix2\u001b[0m\u001b[0;34m)\u001b[0m \u001b[0;34m==\u001b[0m \u001b[0mfast_matrix_product\u001b[0m\u001b[0;34m(\u001b[0m\u001b[0mtest_matrix1\u001b[0m\u001b[0;34m,\u001b[0m \u001b[0mtest_matrix2\u001b[0m\u001b[0;34m)\u001b[0m\u001b[0;34m)\u001b[0m\u001b[0;34m.\u001b[0m\u001b[0mall\u001b[0m\u001b[0;34m(\u001b[0m\u001b[0;34m)\u001b[0m \u001b[0;34m==\u001b[0m \u001b[0;32mTrue\u001b[0m\u001b[0;34m\u001b[0m\u001b[0;34m\u001b[0m\u001b[0m\n\u001b[0m\u001b[1;32m     43\u001b[0m \u001b[0;34m\u001b[0m\u001b[0m\n",
            "\u001b[0;31mAssertionError\u001b[0m: "
          ]
        }
      ],
      "source": [
        "import time\n",
        "\n",
        "import numpy as np\n",
        "from numba import njit\n",
        "import timeit\n",
        "import csv\n",
        "\"slow version matrix product\"\n",
        "def slow_matrix_product(mat1, mat2):\n",
        "    \"\"\"Multiply two matrices.\"\"\"\n",
        "    assert mat1.shape[1] == mat2.shape[0]\n",
        "    result = []\n",
        "    for c in range(mat2.shape[1]):\n",
        "        column = []\n",
        "        for r in range(mat1.shape[0]):\n",
        "            value = 0\n",
        "            for i in range(mat1.shape[1]):\n",
        "                value += mat1[r, i] * mat2[i, c]\n",
        "            column.append(value)\n",
        "        result.append(column)\n",
        "    return np.array(result).transpose()\n",
        "\n",
        "\"fast version matrix product via numpy\"\n",
        "def fast_matrix_product(matrix1, matrix2):\n",
        "    assert matrix1.shape[0] == matrix2.shape[1]\n",
        "    result = []\n",
        "    for a in range(matrix2.shape[1]):\n",
        "        row = []\n",
        "        for b in range(matrix1.shape[0]):\n",
        "            value = np.dot(matrix1[a],matrix2.transpose()[b])\n",
        "            row.append(value)\n",
        "        result.append(row)\n",
        "    return np.array(result)\n",
        "\n",
        "def numpy_matrix_product(matrix1, matrix2):\n",
        "    return np.dot(matrix1, matrix2)\n",
        "\n",
        "for i in range(1,5):\n",
        "  test_matrix1 = np.random.rand(i,i)\n",
        "  test_matrix2 = np.random.rand(i,i)\n",
        "  print(slow_matrix_product(test_matrix1, test_matrix2))\n",
        "  print(fast_matrix_product(test_matrix1, test_matrix2))\n",
        "  assert (slow_matrix_product(test_matrix1, test_matrix2) == fast_matrix_product(test_matrix1, test_matrix2)).all() == True\n",
        "\n"
      ]
    },
    {
      "cell_type": "markdown",
      "source": [
        "\n",
        "\n",
        "```\n",
        "# Advantage:\n",
        "1, the old function runs three loop which is O(n^3) time complexity, the modified function runs only two loops which is O(n^2).\n",
        "2, \n",
        "```\n",
        "\n",
        "\n"
      ],
      "metadata": {
        "id": "msKVFvG1d69J"
      }
    },
    {
      "cell_type": "code",
      "source": [
        "@njit\n",
        "def numba_fast_matrix_product(matrix1, matrix2):\n",
        "    assert matrix1.shape[0] == matrix2.shape[1]\n",
        "    result = []\n",
        "    for a in range(matrix2.shape[1]):\n",
        "        row = []\n",
        "        for b in range(matrix1.shape[0]):\n",
        "            value = np.dot(matrix1[b],matrix2[a])\n",
        "            row.append(value)\n",
        "        result.append(row)\n",
        "    return result\n",
        "\n",
        "\n",
        "\n",
        "def test():\n",
        "    time_slow = []\n",
        "    time_fast = []\n",
        "    time_numba = []\n",
        "\n",
        "    for i in range(0,1000,100):\n",
        "        test1 = np.random.rand(i,i)\n",
        "        test2 = np.random.rand(i,i)\n",
        "        print(i)\n",
        "        start_time = time.time()\n",
        "        slow_matrix_product(test1,test2)\n",
        "        end_time = time.time()\n",
        "        time_slow.append([i,end_time - start_time])\n",
        "\n",
        "        start_time = time.time()\n",
        "        fast_matrix_product(test1,test2)\n",
        "        end_time = time.time()\n",
        "        time_fast.append([i,end_time - start_time])\n",
        "\n",
        "        start_time = time.time()\n",
        "        numba_fast_matrix_product(test1,test2)\n",
        "        end_time = time.time()\n",
        "        time_numba.append([i,end_time - start_time])\n",
        "\n",
        "    print(time_slow)\n",
        "    print(time_fast)\n",
        "    print(time_numba)\n",
        "\n",
        "test()\n"
      ],
      "metadata": {
        "id": "a6CGEkI5_m5B"
      },
      "execution_count": null,
      "outputs": []
    },
    {
      "cell_type": "code",
      "source": [],
      "metadata": {
        "id": "lKBPHDDa_nuN"
      },
      "execution_count": null,
      "outputs": []
    }
  ]
}